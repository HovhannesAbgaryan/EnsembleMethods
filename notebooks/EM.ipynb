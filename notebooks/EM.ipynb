{
 "cells": [
  {
   "cell_type": "markdown",
   "source": [
    "# Ensemble Methods"
   ],
   "metadata": {
    "collapsed": false
   },
   "id": "7572b6b9c15e7349"
  },
  {
   "cell_type": "code",
   "execution_count": null,
   "id": "initial_id",
   "metadata": {
    "collapsed": true
   },
   "outputs": [],
   "source": [
    "import matplotlib.pyplot as plt\n",
    "plt.style.use(\"seaborn-v0_8-whitegrid\") # Plot style\n",
    "\n",
    "from sklearn.metrics import accuracy_score\n",
    "from sklearn.model_selection import train_test_split\n",
    "from sklearn.tree import DecisionTreeClassifier\n",
    "from sklearn.ensemble import RandomForestClassifier\n",
    "\n",
    "%load_ext autoreload\n",
    "%autoreload 2"
   ]
  },
  {
   "cell_type": "markdown",
   "source": [
    "In order to check your implementations, make sure that your models are able to learn from data (even overfit on it) and result in almost perfect classification on the simple task below.\n",
    "\n",
    "Here is the [description](https://archive.ics.uci.edu/ml/datasets/Optical+Recognition+of+Handwritten+Digits) of the data that will be used to test the models."
   ],
   "metadata": {
    "collapsed": false
   },
   "id": "7c788296ab8cdd48"
  },
  {
   "cell_type": "code",
   "execution_count": null,
   "outputs": [],
   "source": [
    "plt.rcParams['figure.figsize'] = (10.0, 8.0)\n",
    "\n",
    "from src.ensemble_methods import *\n",
    "\n",
    "from sklearn import datasets\n",
    "data = datasets.load_digits(n_class=2) # taking only 0 and 1 digits"
   ],
   "metadata": {
    "collapsed": false
   },
   "id": "e704a136ab2e1763"
  },
  {
   "cell_type": "code",
   "execution_count": null,
   "outputs": [],
   "source": [
    "X = data.data\n",
    "y = data.target\n",
    "\n",
    "X_train, X_test, y_train, y_test = train_test_split(X, y, test_size=0.5, random_state=0)"
   ],
   "metadata": {
    "collapsed": false
   },
   "id": "fefedfdf2c3fb308"
  },
  {
   "cell_type": "markdown",
   "source": [
    "## 1. Bagging"
   ],
   "metadata": {
    "collapsed": false
   },
   "id": "5eafefac9df605a2"
  },
  {
   "cell_type": "code",
   "execution_count": null,
   "outputs": [],
   "source": [
    "model = Bagging(base_estimator=DecisionTreeClassifier, nr_estimators=20)\n",
    "model.fit(X_train, y_train)\n",
    "print(\"Train accuracy: \", accuracy_score(model.predict(X_train), y_train))\n",
    "print(\"Test accuracy: \", accuracy_score(model.predict(X_test), y_test))"
   ],
   "metadata": {
    "collapsed": false
   },
   "id": "229322236f426d1c"
  },
  {
   "cell_type": "markdown",
   "source": [
    "## 2. Random Forest (RF)"
   ],
   "metadata": {
    "collapsed": false
   },
   "id": "ab8c3bedc3df9dc9"
  },
  {
   "cell_type": "code",
   "execution_count": null,
   "outputs": [],
   "source": [
    "model = RandomForest(10)\n",
    "model.fit(X_train, y_train)\n",
    "print(\"Train accuracy: \", accuracy_score(model.predict(X_train), y_train))\n",
    "print(\"Test accuracy: \", accuracy_score(model.predict(X_test), y_test))"
   ],
   "metadata": {
    "collapsed": false
   },
   "id": "ff4d0371107dd006"
  },
  {
   "cell_type": "markdown",
   "source": [
    "## 3. Weighted Voting"
   ],
   "metadata": {
    "collapsed": false
   },
   "id": "bfb8607a2397b2c3"
  },
  {
   "cell_type": "code",
   "execution_count": null,
   "outputs": [],
   "source": [
    "estimators = [RandomForestClassifier(), DecisionTreeClassifier()]\n",
    "model = WeightedVoting(estimators)\n",
    "model.fit(X_train, y_train)\n",
    "print(\"Train accuracy: \", accuracy_score(model.predict(X_train), y_train))\n",
    "print(\"Test accuracy: \", accuracy_score(model.predict(X_test), y_test))"
   ],
   "metadata": {
    "collapsed": false
   },
   "id": "fc105034315e14fc"
  },
  {
   "cell_type": "markdown",
   "source": [
    "## 4. Stacking"
   ],
   "metadata": {
    "collapsed": false
   },
   "id": "5deaf69146c9d8"
  },
  {
   "cell_type": "code",
   "execution_count": null,
   "outputs": [],
   "source": [
    "model = Stacking(estimators, Bagging(base_estimator=DecisionTreeClassifier, nr_estimators=20), \n",
    "                 meta_features='prob', cv=True, k=5)\n",
    "model.fit(X_train, y_train)\n",
    "print(\"Train accuracy: \", accuracy_score(model.predict(X_train), y_train))\n",
    "print(\"Test accuracy: \", accuracy_score(model.predict(X_test), y_test))"
   ],
   "metadata": {
    "collapsed": false
   },
   "id": "fb7a2853ce220018"
  }
 ],
 "metadata": {
  "kernelspec": {
   "display_name": "Python 3",
   "language": "python",
   "name": "python3"
  },
  "language_info": {
   "codemirror_mode": {
    "name": "ipython",
    "version": 2
   },
   "file_extension": ".py",
   "mimetype": "text/x-python",
   "name": "python",
   "nbconvert_exporter": "python",
   "pygments_lexer": "ipython2",
   "version": "2.7.6"
  }
 },
 "nbformat": 4,
 "nbformat_minor": 5
}
